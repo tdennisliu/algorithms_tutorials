{
 "cells": [
  {
   "cell_type": "markdown",
   "metadata": {},
   "source": [
    "## Graphs\n",
    "\n",
    "The next section of the course has a brief introduction to graph notation which is comprehensive enough to get anyone started from any background. If you understand the notation of a graph to be $G(V,E)$ or know what a DAG is (as most mathemeticians like myself will), you can skip the background. Or use it to refresh your memory!\n",
    "\n",
    "What might be new to mathematicians is how graphs can be stored in memory, and how difficult it is to determine if an edge exists in each of the 3 data structures. "
   ]
  },
  {
   "cell_type": "markdown",
   "metadata": {},
   "source": [
    "## Breadth-first search (BFS)\n",
    "\n",
    "We came across BFS in the first examples of an algorithm in the course, where we attempted to find the shortest path (geodesic path for mathemeticians) from a source to a target.\n",
    "\n",
    "The basic premise to that the search occurs over a graph, and we begin at the target, exploring all paths from the target until we find the source. Through each step, we keep track of the minimum **distance** from the target, and the **predecessor** vertex we came from, to allow us to retrace our steps to find the shortest path. As we explore the graph, we assign each vertex a tuple of (distance, predecessor), but only if the tuple was empty beforehand. If we allow overwriting of tuples, then we would be overwriting a shorter path with a later, longer path!\n",
    "\n",
    "The pseudo code for this algorithm would be:\n",
    "\n",
    "1. Initialise all vertices with tuples (null, null)\n",
    "2. Start at the target vertex, assign it (0, null)\n",
    "3. For each neighbour of the target, assign it (1, target)\n",
    "4. For each neighbour of vertex i, all k distance from target, if the neighbour does not have (null, null), assign it (k, i).\n",
    "5. Continue until you reach the source vertex. \n",
    "\n",
    "Khan Academy takes this point to introduce **queues** as a First In First Out data structure. We can use this to intuitively keep track of which vertex's neighbours we have already covered, to ensure we snowball correctly. We've already seen **stacks** in the Tower of Hanoi exercise, where we used python `list` data structure. However, it is generally not a good idea to use `list`, as inserting or deleting the first entry, the point of a queue, takes $O(n)$ time. See [here](https://dbader.org/blog/queues-in-python) for more information on queues in python, and why you should use each case.\n",
    "\n",
    "*Note*: In BFS we use queues to cover all neighbours of a node before moving on to the next set of children. In Depth-first Search, we attmept to search as deep as we can before backtracking. What data structure would be most appropriate for Depth-first Search?\n"
   ]
  },
  {
   "cell_type": "code",
   "execution_count": 7,
   "metadata": {},
   "outputs": [
    {
     "data": {
      "text/plain": [
       "{0: (4, 1),\n",
       " 1: (3, 4),\n",
       " 2: (1, 3),\n",
       " 3: (0, None),\n",
       " 4: (2, 2),\n",
       " 5: (2, 2),\n",
       " 6: (1, 3),\n",
       " 7: (None, None)}"
      ]
     },
     "execution_count": 7,
     "metadata": {},
     "output_type": "execute_result"
    }
   ],
   "source": [
    "from collections import deque\n",
    "\n",
    "def doBFS(graph, source):\n",
    "    \"\"\"\n",
    "    graph is represented as an adjacency list, and source is the index of the source vertex.\n",
    "    Returns a dictionary where the keys vertex indices, and give a tuple of (distance, predecessor)\n",
    "    \"\"\"\n",
    "    q = deque()\n",
    "    search = {}\n",
    "    for i in range(len(graph)):\n",
    "        search[i] = (None, None)\n",
    "        \n",
    "    search[source] = (0,None)\n",
    "    q.append(source)\n",
    "    dist = 1\n",
    "    while len(q)>0:\n",
    "        i = q.popleft() #take first in queue\n",
    "        for n in graph[i]: #examine all neighbours\n",
    "            if search[n][0] ==None:\n",
    "                q.append(n)\n",
    "                search[n] = (search[i][0]+1,i) #add one to predecessor distance\n",
    "    return search\n",
    "        \n",
    "test = [\n",
    "    [1],\n",
    "    [0, 4, 5],\n",
    "    [3, 4, 5],\n",
    "    [2, 6],\n",
    "    [1, 2],\n",
    "    [1, 2, 6],\n",
    "    [3, 5],\n",
    "    []\n",
    "    ]\n",
    "doBFS(test, 3)"
   ]
  },
  {
   "cell_type": "markdown",
   "metadata": {},
   "source": [
    "### Order of breadth-first search\n",
    "\n",
    "In this algorithm, we initialise across all nodes, and search all edges, leading to a complexity of $O(V+E)$. As these are both linear terms, we really mean $O(max(V,E))$.\n",
    "\n",
    "## Conclusion\n",
    "\n",
    "This concludes all the material in the Khan Academy course. I will have a final notebook where I will tackle some oher problems that can be used to prepare for a coding interview."
   ]
  }
 ],
 "metadata": {
  "kernelspec": {
   "display_name": "Python 3",
   "language": "python",
   "name": "python3"
  },
  "language_info": {
   "codemirror_mode": {
    "name": "ipython",
    "version": 3
   },
   "file_extension": ".py",
   "mimetype": "text/x-python",
   "name": "python",
   "nbconvert_exporter": "python",
   "pygments_lexer": "ipython3",
   "version": "3.6.4"
  }
 },
 "nbformat": 4,
 "nbformat_minor": 2
}
