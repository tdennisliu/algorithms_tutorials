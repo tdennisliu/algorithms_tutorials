{
 "cells": [
  {
   "cell_type": "markdown",
   "metadata": {},
   "source": [
    "## Graphs\n",
    "\n",
    "The next section of the course has a brief introduction to graph notation which is comprehensive enough to get anyone started from any background. If you understand the notation of a graph to be $G(V,E)$ or know what a DAG is (as most mathemeticians like myself will), you can skip the background. Or use it to refresh your memory!\n",
    "\n",
    "What might be new to mathematicians is how graphs can be stored in memory, and how difficult it is to determine if an edge exists in each of the 3 data structures. "
   ]
  },
  {
   "cell_type": "markdown",
   "metadata": {},
   "source": [
    "## Breadth-first search (BFS)\n",
    "\n",
    "We came across BFS in the first examples of an algorithm in the course, where we attempted to find the shortest path (geodesic path for mathemeticians) from a source to a target.\n",
    "\n",
    "The basic premise to that the search occurs over a graph, and we begin at the target, exploring all paths from the target until we find the source. Through each step, we keep track of the minimum **distance** from the target, and the **predecessor** vertex we came from, to allow us to retrace our steps to find the shortest path. As we explore the graph, we assign each vertex a tuple of (distance, predecessor), but only if the tuple was empty beforehand. If we allow overwriting of tuples, then we would be overwriting a shorter path with a later, longer path!\n",
    "\n",
    "The pseudo code for this algorithm would be:\n",
    "\n",
    "1. Initialise all vertices with tuples (null, null)\n",
    "2. Start at the target vertex, assign it (0, null)\n",
    "3. For each neighbour of the target, assign it (1, target)\n",
    "4. For each neighbour of vertex i, all k distance from target, if the neighbour does not have (null, null), assign it (k, i).\n",
    "5. Continue until you reach the source vertex. \n",
    "\n",
    "Khan Academy takes this point to introduce **queues** as a First In First Out data structure. We can use this to intuitively keep track of which vertex's neighbours we have already covered, to ensure we snowball correctly. We've already seen **stacks** in the Tower of Hanoi exercise, where we used python `list` data structure. However, it is generally not a good idea to use `list`, as inserting or deleting the first entry, the point of a queue, takes $O(n)$ time. See [here](https://dbader.org/blog/queues-in-python) for more information on queues in python, and why you should use each case.\n",
    "\n"
   ]
  },
  {
   "cell_type": "code",
   "execution_count": 19,
   "metadata": {},
   "outputs": [
    {
     "data": {
      "text/plain": [
       "{0: (6, 1),\n",
       " 1: (4, 4),\n",
       " 2: (1, 3),\n",
       " 3: (0, None),\n",
       " 4: (2, 2),\n",
       " 5: (2, 2),\n",
       " 6: (1, 3)}"
      ]
     },
     "execution_count": 19,
     "metadata": {},
     "output_type": "execute_result"
    }
   ],
   "source": [
    "from collections import deque\n",
    "\n",
    "def doBFS(graph, source):\n",
    "    \"\"\"\n",
    "    graph is represented as an adjacency list, and source is the index of the source vertex.\n",
    "    Returns a dictionary where the keys vertex indices, and give a tuple of (distance, predecessor)\n",
    "    \"\"\"\n",
    "    q = deque()\n",
    "    search = {source:(0, None)}\n",
    "    q.append(source)\n",
    "    dist = 1\n",
    "    while len(q)>0:\n",
    "        i = q.popleft()\n",
    "        for n in graph[i]:\n",
    "            if n not in search:\n",
    "                q.append(n)\n",
    "                search[n] = (dist,i)\n",
    "        dist +=1\n",
    "    return search\n",
    "        \n",
    "test = [\n",
    "    [1],\n",
    "    [0, 4, 5],\n",
    "    [3, 4, 5],\n",
    "    [2, 6],\n",
    "    [1, 2],\n",
    "    [1, 2, 6],\n",
    "    [3, 5],\n",
    "    []\n",
    "    ]\n",
    "doBFS(test, 3)"
   ]
  },
  {
   "cell_type": "code",
   "execution_count": 8,
   "metadata": {},
   "outputs": [
    {
     "data": {
      "text/plain": [
       "deque([2])"
      ]
     },
     "execution_count": 8,
     "metadata": {},
     "output_type": "execute_result"
    }
   ],
   "source": [
    "q = deque()\n",
    "q.append(1)\n",
    "q.append(2)\n",
    "q.popleft()\n",
    "q"
   ]
  },
  {
   "cell_type": "code",
   "execution_count": 11,
   "metadata": {},
   "outputs": [
    {
     "data": {
      "text/plain": [
       "False"
      ]
     },
     "execution_count": 11,
     "metadata": {},
     "output_type": "execute_result"
    }
   ],
   "source": [
    "x = {1:3, 2:6}\n",
    "4 in x"
   ]
  },
  {
   "cell_type": "code",
   "execution_count": null,
   "metadata": {},
   "outputs": [],
   "source": []
  }
 ],
 "metadata": {
  "kernelspec": {
   "display_name": "Python 3",
   "language": "python",
   "name": "python3"
  },
  "language_info": {
   "codemirror_mode": {
    "name": "ipython",
    "version": 3
   },
   "file_extension": ".py",
   "mimetype": "text/x-python",
   "name": "python",
   "nbconvert_exporter": "python",
   "pygments_lexer": "ipython3",
   "version": "3.6.4"
  }
 },
 "nbformat": 4,
 "nbformat_minor": 2
}
