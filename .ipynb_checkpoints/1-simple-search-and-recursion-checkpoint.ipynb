{
 "cells": [
  {
   "cell_type": "markdown",
   "metadata": {},
   "source": [
    "# Naive search, sort and recursion"
   ]
  },
  {
   "cell_type": "markdown",
   "metadata": {},
   "source": [
    "### Introduction\n",
    "In this notebook, I will be showing my coding solutions to the exercises from Khan Academy, in their Algorithms course created by Dartmouth college professors Tom Cormen and Devin Balkcom. \n",
    "\n",
    "It is designed to 'teach introductory computer science algorithms, including searching, sorting, recursion, and graph theory'.\n",
    "\n",
    "Access it [here](https://www.khanacademy.org/computing/computer-science/algorithms)."
   ]
  },
  {
   "cell_type": "markdown",
   "metadata": {},
   "source": [
    "## Binary search\n",
    "\n",
    "A simple search for an element in a sorted list of size $N$ can take $O(N)$ with a brute force method of checking every element. However, as the list is sorted, you can take the median element, compare to the object, and eliminate the half of the list that excludes your object. Eliminating half the list at each iteration is called the **binary search**."
   ]
  },
  {
   "cell_type": "code",
   "execution_count": 1,
   "metadata": {},
   "outputs": [],
   "source": [
    "\n",
    "#use list of primes as example list\n",
    "primes = [2, 3, 5, 7, 11, 13, 17, 19, 23, 29, 31, 37, 41, \n",
    "          43, 47, 53, 59, 61, 67, 71, 73, 79, 83, 89, 97]\n",
    "\n"
   ]
  },
  {
   "cell_type": "markdown",
   "metadata": {},
   "source": [
    "Khan academy example uses a while loop and notes that since the list is already sorted, we can simply use array indices in the comparisons."
   ]
  },
  {
   "cell_type": "code",
   "execution_count": 2,
   "metadata": {},
   "outputs": [],
   "source": [
    "def bin_search(user_guess, array):\n",
    "    \"\"\"\n",
    "    Conduct a binary search of list array for object user_guess, and prints results.\n",
    "    \"\"\"\n",
    "    min_i = 0\n",
    "    max_i = len(array) -1\n",
    "    n = 1\n",
    "    while min_i <= max_i:\n",
    "        guess = (max_i + min_i) //2 #integer division always rounds down\n",
    "        \n",
    "        if array[guess] == user_guess:\n",
    "            print(\"Number is a prime!\")\n",
    "            print(\"It is the %i th prime\" % (guess+1))\n",
    "            print(\"It took %i iterations to find\" %n)\n",
    "            break\n",
    "        if array[guess] < user_guess:\n",
    "            #user number is in the upper half\n",
    "            min_i = guess +1 \n",
    "        else:\n",
    "            #user number is in the lower half\n",
    "            max_i = guess -1\n",
    "        \n",
    "        if n == len(array):\n",
    "            # go to error and break if search longer than linear search, should never occur\n",
    "            print(\"Search failed, exceeded allowed iterations\")\n",
    "            break\n",
    "            \n",
    "        n = n+1\n",
    "    else:\n",
    "        print(\"%i is not a prime\" % user_guess)"
   ]
  },
  {
   "cell_type": "code",
   "execution_count": 3,
   "metadata": {},
   "outputs": [
    {
     "name": "stdout",
     "output_type": "stream",
     "text": [
      "8 is not a prime\n"
     ]
    }
   ],
   "source": [
    "bin_search(8, primes)"
   ]
  },
  {
   "cell_type": "markdown",
   "metadata": {},
   "source": [
    "Keep in mind that the exit case of the while loop is when the min index of the interval is greater than the max index. Convince yourself that this is the case, due to the way the algorithm updates the intervals.\n",
    "\n",
    "### Order of binary search\n",
    "\n",
    "If array is sorted and of length N, then the order of the binary search is at most O($2^N$), and max number of iterations is $2^N + 1$, when the object is not in the array."
   ]
  },
  {
   "cell_type": "markdown",
   "metadata": {},
   "source": [
    "## Selection Sorting"
   ]
  },
  {
   "cell_type": "markdown",
   "metadata": {},
   "source": [
    "In the above section, we were dependent on the list already being sorted, but what if the list was unsorted? Then we need an efficient algorithm to sort it to ascending order.\n",
    "\n",
    "\n",
    "The basic idea for each element $i$ is to:\n",
    "1. consider all $n-i$ elements after $i$, find the smallest element in this subset by pairwise comparisons, and\n",
    "2. swap it with the current $i$th element.\n",
    "\n",
    "*Note*: To sort the list into descending order, we simply need to mirror the list with N/2 calls of swap, or create a copy of our smallest sub-element function, but find the biggest instead."
   ]
  },
  {
   "cell_type": "markdown",
   "metadata": {},
   "source": [
    "We will now make a function to the first step, finding the index of the smallest value in the array"
   ]
  },
  {
   "cell_type": "code",
   "execution_count": 4,
   "metadata": {},
   "outputs": [],
   "source": [
    "def min_value(array, startindex):\n",
    "    \"\"\"\n",
    "    Create a function that finds the index of minimum value of a subarray, beginning at\n",
    "    a start index\n",
    "    \"\"\"\n",
    "    min_test = startindex #initialise with the first index\n",
    "    for i in range(startindex+1, len(array)):\n",
    "        if array[i] <array[min_test]:\n",
    "            min_test = i\n",
    "            \n",
    "    return min_test"
   ]
  },
  {
   "cell_type": "code",
   "execution_count": 5,
   "metadata": {},
   "outputs": [
    {
     "name": "stdout",
     "output_type": "stream",
     "text": [
      "4\n",
      "5\n"
     ]
    }
   ],
   "source": [
    "#Run some tests to ensure it is working\n",
    "array = [3,-2, 10,40,0,4,10]\n",
    "\n",
    "print(min_value(array, 2)) #should be 4, array[4] = 0\n",
    "print(min_value(array, 5)) #should be 5, array[5] = 4"
   ]
  },
  {
   "cell_type": "markdown",
   "metadata": {},
   "source": [
    "Now we will make the function to swap values in an array."
   ]
  },
  {
   "cell_type": "code",
   "execution_count": 6,
   "metadata": {},
   "outputs": [],
   "source": [
    "def swap(array, ind_1, ind_2):\n",
    "    \"\"\"\n",
    "    Swap values of array at ind_1 and ind_2\n",
    "    \"\"\"\n",
    "    temp = array[ind_1]\n",
    "    array[ind_1] = array[ind_2]\n",
    "    array[ind_2] = temp\n",
    "    #no return as array (a pointer in python) is fed into function"
   ]
  },
  {
   "cell_type": "markdown",
   "metadata": {},
   "source": [
    "Combining the two functions, minimum value and swap, allows us to do the selection search"
   ]
  },
  {
   "cell_type": "code",
   "execution_count": 7,
   "metadata": {},
   "outputs": [
    {
     "name": "stdout",
     "output_type": "stream",
     "text": [
      "[-2, 0, 2, 3, 5, 10.2, 40]\n"
     ]
    }
   ],
   "source": [
    "##now combine swap and min_value to do selection sort\n",
    "array = [3,-2, 5,40,0,2,10.2]\n",
    "def selection_sort(array):\n",
    "    for i in range(len(array)):\n",
    "        min_index = min_value(array, i)\n",
    "        swap(array, i , min_index)\n",
    "selection_sort(array)\n",
    "print(array)"
   ]
  },
  {
   "cell_type": "markdown",
   "metadata": {},
   "source": [
    "### Order of selection sorting\n",
    "\n",
    "The algorithm has two primary loops, the outer most loop of running through each element and putting the next smallest item there in `selection_sort`, and the inner loop of finding the smallest element in `min_value`. \n",
    "\n",
    "Swapping elements in `swap` is constant time, as no loops or complex functions occur in that function, only assignment and references.\n",
    "\n",
    "The outer loop is simply $\\Theta(N)$, as we need to go through every element.\n",
    "The inner loop with function min_value has $N$ loops for the first element, and then one less at each iteration of the outer loop. So this is also $O(N)$.\n",
    "\n",
    "Combining these two means that the total complexity is $O(N^2)$"
   ]
  },
  {
   "cell_type": "markdown",
   "metadata": {},
   "source": [
    "## Insertion sort\n",
    "\n",
    "Khan academy subtitles this section as another way to sort that is simple, but not very efficient.\n",
    "\n",
    "It is similar to selection sorting, only instead of examining an ever decreasing subarray and moving the smallest value to the left, you have an ever increasing subarray and move the value into the correct position.\n",
    "\n",
    "Insertion sort is analogous to having an ordered set of cards in your hand, the dealer giving you a new card, and moving the new card from right to left to find the right place to sort it.\n",
    "\n",
    "In pseudo code:\n",
    "\n",
    "Assume the array from position 0 to $i-1$ are sorted.\n",
    "\n",
    "1. Record the value of the $i$th position as the key\n",
    "2. Compare the value of the key to the value of the $i-1$ position\n",
    "3. If it is smaller, then slide the $i-1$ value to the right, and now compare to the $i-2$ position\n",
    "4. While the key is smaller than the compared value, Repeat 2. and 3.\n",
    "5. Once the key is larger than the compared value, place the key to the right of the compared value.\n",
    "\n",
    "Need to consider the fringe cases:\n",
    "* The key is smaller than all the values in the sorted subarray,\n",
    "* The key is larger than or equal to the first compared value.\n",
    "\n",
    "We will now make an insertion sort algorithm, starting with the comparison and insert function."
   ]
  },
  {
   "cell_type": "code",
   "execution_count": 8,
   "metadata": {},
   "outputs": [
    {
     "name": "stdout",
     "output_type": "stream",
     "text": [
      "[2, 3, 5, 11, 13, -1, 5]\n",
      "[-1, 2, 3, 5, 11, 13, 5]\n"
     ]
    },
    {
     "data": {
      "text/plain": [
       "[2, 3, 4, 5, 11, 13, 7, 5]"
      ]
     },
     "execution_count": 8,
     "metadata": {},
     "output_type": "execute_result"
    }
   ],
   "source": [
    "def insert(value,array,rightindex):\n",
    "    \"\"\"\n",
    "    Function that takes in an array pointer, inserts the value into the array up to and including\n",
    "    the rightindex at the correct ascending position.\n",
    "    Assumes array up to rightindex is already sorted.\n",
    "    returns null\n",
    "    \"\"\"\n",
    "    for n in range(rightindex+1):\n",
    "        if value > array[rightindex-n]:           \n",
    "            array[rightindex-n+1] = value\n",
    "            return\n",
    "        #shift items to the right at every iteration, unless iterations break\n",
    "        array[rightindex-n+1] = array[rightindex-n]\n",
    "\n",
    "    ##for loop has proceed to the end with no assignment\n",
    "    array[0] = value\n",
    "\n",
    "#test fringe case of being greater than whole subarray\n",
    "test = [2,3,5,11,13,-1,5]\n",
    "\n",
    "insert(test[4], test,3)\n",
    "print(test)\n",
    "\n",
    "#test insertion of smallest value\n",
    "\n",
    "insert(test[5],test,4)\n",
    "print(test)\n",
    "\n",
    "#test insertion of normal case\n",
    "test = [2,3,5,11,4,13,7,5]\n",
    "insert(test[4],test,3)\n",
    "test\n",
    "    \n",
    "\n",
    "    "
   ]
  },
  {
   "cell_type": "code",
   "execution_count": 9,
   "metadata": {},
   "outputs": [
    {
     "data": {
      "text/plain": [
       "[-2, -1.1, 0, 1, 3, 5, 6, 6, 80]"
      ]
     },
     "execution_count": 9,
     "metadata": {},
     "output_type": "execute_result"
    }
   ],
   "source": [
    "def insertsort(array):\n",
    "    \"\"\"\n",
    "    Implements insertion sort on an unsorted array\n",
    "    \"\"\"\n",
    "    \n",
    "    for n in range(1,len(array)):\n",
    "        insert(array[n], array, n-1)\n",
    "\n",
    "array = [3,6,1,6,-2,0,-1.1,5,80]\n",
    "\n",
    "insertsort(array)\n",
    "array"
   ]
  },
  {
   "cell_type": "markdown",
   "metadata": {},
   "source": [
    "### Order of insert sort\n",
    "\n",
    "This algorithm again has two primary loops, once in the `insert` function and once in the `insertsort` function, which calls the `insert` function.\n",
    "\n",
    "The `insert` function will compare the current key to at most all elements in the subarray, which will eventually reach $n-1$ for the last element in the whole array. This is then an $O(n)$ operation.\n",
    "\n",
    "The `insertsort` functions loops over every element in the array, which is $O(n)$, and calls the `insert` function each loop, which we have already determined is $O(n)$.\n",
    "\n",
    "The order of the whole process is then the multiplication of the two orders, $O(n^2)$.\n",
    "\n",
    "*Note*: the best case scenario, calling `insertsort` onto an already sorted list, will be $\\Theta(n)$, as it will always loop over each index."
   ]
  },
  {
   "cell_type": "markdown",
   "metadata": {},
   "source": [
    "## Recursion\n",
    "\n",
    "### The factorial function\n",
    "\n",
    "Khan academy draws comparisons between recursion and nested Russian dolls, where I think a better comparison is long multiplication or division. The problem, like `245 times 57`, is too large to compute on face value, but when broken down into long multiplication, is straight forward.\n",
    "\n",
    "```\n",
    "  245\n",
    " x 57\n",
    "_______\n",
    " 1715\n",
    "12250\n",
    "______\n",
    "13965\n",
    "```\n",
    "\n",
    "The first exercise requests us to make a `factorial` function that is iterative. Note that python already has an inbuilt function for the factorial in the `math` package."
   ]
  },
  {
   "cell_type": "code",
   "execution_count": 15,
   "metadata": {},
   "outputs": [
    {
     "data": {
      "text/plain": [
       "720"
      ]
     },
     "execution_count": 15,
     "metadata": {},
     "output_type": "execute_result"
    }
   ],
   "source": [
    "import math \n",
    "math.factorial(6)"
   ]
  },
  {
   "cell_type": "code",
   "execution_count": 23,
   "metadata": {},
   "outputs": [
    {
     "data": {
      "text/plain": [
       "720"
      ]
     },
     "execution_count": 23,
     "metadata": {},
     "output_type": "execute_result"
    }
   ],
   "source": [
    "def ifactorial(n):\n",
    "    \"\"\"\n",
    "    Function that returns the factorial of n.\n",
    "    \"\"\"\n",
    "    i=1\n",
    "    #Note that in python, if n=0, the range function will cover this case for us\n",
    "    for j in range(1,n):\n",
    "        i = i*(j+1)\n",
    "    return i\n",
    "\n",
    "ifactorial(6)"
   ]
  },
  {
   "cell_type": "markdown",
   "metadata": {},
   "source": [
    "Now Khan academy asks us to try making a recursive factorial function, where to solve `n!`, we try to solve `n*(n-1)!`."
   ]
  },
  {
   "cell_type": "code",
   "execution_count": 27,
   "metadata": {},
   "outputs": [
    {
     "data": {
      "text/plain": [
       "720"
      ]
     },
     "execution_count": 27,
     "metadata": {},
     "output_type": "execute_result"
    }
   ],
   "source": [
    "def rfactorial(n):\n",
    "    \"\"\"\n",
    "    recursive function that returns the factorial of n.\n",
    "    \"\"\"\n",
    "    #base case to prevent indefinite repetition\n",
    "    if n==0:\n",
    "        return 1\n",
    "    #recursion\n",
    "    else:\n",
    "        return n*rfactorial(n-1)\n",
    "    \n",
    "rfactorial(6)    "
   ]
  },
  {
   "cell_type": "markdown",
   "metadata": {},
   "source": [
    "A crucial step to the above is the base case, as without it the recursion will not stop. Also note that the above function is poorly written, as if the input is a non-integer or negative, it will never reach the base case.\n",
    "\n",
    "*Note*: Python will automatically stop calling recursive functions after some number of calls, based on implementation. To prevent this, you need to amend the function, as in below."
   ]
  },
  {
   "cell_type": "code",
   "execution_count": 51,
   "metadata": {},
   "outputs": [
    {
     "name": "stdout",
     "output_type": "stream",
     "text": [
      "4000\n"
     ]
    }
   ],
   "source": [
    "import sys\n",
    "print(sys.getrecursionlimit())\n",
    "x=rfactorial(3000)\n"
   ]
  },
  {
   "cell_type": "code",
   "execution_count": 50,
   "metadata": {},
   "outputs": [
    {
     "ename": "AssertionError",
     "evalue": "Input is not an integer",
     "output_type": "error",
     "traceback": [
      "\u001b[0;31m---------------------------------------------------------------------------\u001b[0m",
      "\u001b[0;31mAssertionError\u001b[0m                            Traceback (most recent call last)",
      "\u001b[0;32m<ipython-input-50-daa8503f160c>\u001b[0m in \u001b[0;36m<module>\u001b[0;34m()\u001b[0m\n\u001b[1;32m     15\u001b[0m     \u001b[0;32melse\u001b[0m\u001b[0;34m:\u001b[0m\u001b[0;34m\u001b[0m\u001b[0m\n\u001b[1;32m     16\u001b[0m         \u001b[0;32mreturn\u001b[0m \u001b[0mn\u001b[0m\u001b[0;34m*\u001b[0m\u001b[0mrfactorial\u001b[0m\u001b[0;34m(\u001b[0m\u001b[0mn\u001b[0m\u001b[0;34m-\u001b[0m\u001b[0;36m1\u001b[0m\u001b[0;34m)\u001b[0m\u001b[0;34m\u001b[0m\u001b[0m\n\u001b[0;32m---> 17\u001b[0;31m \u001b[0mrfactorial\u001b[0m\u001b[0;34m(\u001b[0m\u001b[0;34m-\u001b[0m\u001b[0;36m2.1\u001b[0m\u001b[0;34m)\u001b[0m\u001b[0;34m\u001b[0m\u001b[0m\n\u001b[0m",
      "\u001b[0;32m<ipython-input-50-daa8503f160c>\u001b[0m in \u001b[0;36mrfactorial\u001b[0;34m(n)\u001b[0m\n\u001b[1;32m      4\u001b[0m     \"\"\"\n\u001b[1;32m      5\u001b[0m \u001b[0;34m\u001b[0m\u001b[0m\n\u001b[0;32m----> 6\u001b[0;31m     \u001b[0;32massert\u001b[0m \u001b[0misinstance\u001b[0m\u001b[0;34m(\u001b[0m\u001b[0mn\u001b[0m\u001b[0;34m,\u001b[0m\u001b[0mint\u001b[0m\u001b[0;34m)\u001b[0m\u001b[0;34m,\u001b[0m \u001b[0;34m\"Input is not an integer\"\u001b[0m\u001b[0;34m\u001b[0m\u001b[0m\n\u001b[0m\u001b[1;32m      7\u001b[0m     \u001b[0;32massert\u001b[0m \u001b[0mn\u001b[0m\u001b[0;34m>=\u001b[0m\u001b[0;36m0\u001b[0m\u001b[0;34m,\u001b[0m \u001b[0;34m\"Input must be a positive integer\"\u001b[0m\u001b[0;34m\u001b[0m\u001b[0m\n\u001b[1;32m      8\u001b[0m     \u001b[0;32mimport\u001b[0m \u001b[0msys\u001b[0m\u001b[0;34m\u001b[0m\u001b[0m\n",
      "\u001b[0;31mAssertionError\u001b[0m: Input is not an integer"
     ]
    }
   ],
   "source": [
    "def rfactorial(n):\n",
    "    \"\"\"\n",
    "    recursive function that returns the factorial of n.\n",
    "    \"\"\"\n",
    "    \n",
    "    assert isinstance(n,int), \"Input is not an integer\"\n",
    "    assert n>=0, \"Input must be a positive integer\"\n",
    "    import sys\n",
    "    sys.setrecursionlimit(4000)\n",
    "    \n",
    "    #base case to prevent indefinite repetition\n",
    "    if n==0:\n",
    "        return 1\n",
    "    #recursion\n",
    "    else:\n",
    "        return n*rfactorial(n-1)\n"
   ]
  },
  {
   "cell_type": "markdown",
   "metadata": {},
   "source": [
    "## Using recursion to determine palindrome-ness\n",
    "\n",
    "The lesson raises a good point in this example, in that it considers the fringe cases. Here, they determine that a single letter string is indeed a palindrome, and that an empty string is also a palindrome. These fringe cases are important to consider whenever implementing algorithms, particularly for production! You must have an idea of how it will be used and what the expectations are.\n",
    "\n",
    "In case it wasn't obvious yet, to determine if a string is a palindrome, we can use recursion! The following pseudocode will be our template:\n",
    "\n",
    "1. If a string is empty or just one letter, then it is a palindrome\n",
    "2. Otherwise, compare the first and last letters of the string.\n",
    "2. a. If the letters are different, the string is not a palindrome.\n",
    "2. b. If they are the same, remove the first and last letters from the string. \n",
    "3. Use the smaller string as input back to step 1."
   ]
  },
  {
   "cell_type": "code",
   "execution_count": 21,
   "metadata": {},
   "outputs": [],
   "source": [
    "def isPalindrome(text):\n",
    "    \"\"\"\n",
    "    Takes a string text and returns True is text is a palindrome and False otherwise\n",
    "    \"\"\"\n",
    "    \n",
    "    if len(text)<2:\n",
    "        #string is empty or one character\n",
    "        return True\n",
    "    \n",
    "    else:\n",
    "        if text[0] == text[-1]:\n",
    "            #If ends are equal, trim off ends and feed into function again\n",
    "            x = text[1:-1]\n",
    "            return isPalindrome(x)\n",
    "        else:\n",
    "            return False\n",
    "    \n",
    "assert isPalindrome('a') == True\n",
    "assert isPalindrome('') == True\n",
    "assert isPalindrome('abcdcba') == True\n",
    "assert isPalindrome('12xde') == False"
   ]
  },
  {
   "cell_type": "markdown",
   "metadata": {},
   "source": [
    "### Order of isPalindrome\n",
    "\n",
    "The function at best terminates at the first letter when it is not the same as the last, or it is empty or only one letter. This would then be $\\Theta(1)$.\n",
    "\n",
    "The worse case scenario would then be to cycle through all $n/2$ letters on one side of a string of size $n$, comparing them to the other sides $n/2$ letters. This would be $\\Theta(n)$.\n",
    "\n",
    "In summary, the function is $\\Omega(1)$ and $O(n)$ \n"
   ]
  },
  {
   "cell_type": "markdown",
   "metadata": {},
   "source": [
    "## Recursive exponents\n",
    "The next example is reasonable straight forward and is similar in principle (at least in regards to recursion) to the above example, so I will simply show the solution without saying much more."
   ]
  },
  {
   "cell_type": "code",
   "execution_count": 30,
   "metadata": {},
   "outputs": [
    {
     "data": {
      "text/plain": [
       "0.125"
      ]
     },
     "execution_count": 30,
     "metadata": {},
     "output_type": "execute_result"
    }
   ],
   "source": [
    "def power(x,n):\n",
    "    \"\"\"\n",
    "    Return the value of x^n through recursion\n",
    "    \"\"\"\n",
    "    \n",
    "    #base case\n",
    "    if n ==0:\n",
    "        return 1\n",
    "    if n >0:\n",
    "        if n %2 ==0:\n",
    "            return power(x,n/2)*power(x,n/2)\n",
    "        \n",
    "        else: \n",
    "            return power(x,n-1)*x\n",
    "    else:\n",
    "        return 1/power(x,-n)\n",
    "    \n",
    "power(2,-3)"
   ]
  },
  {
   "cell_type": "markdown",
   "metadata": {},
   "source": [
    "## Recursive art\n",
    "\n",
    "The next exercise use mutliple recursion to generate art and the [Sierpinski gasket](https://en.wikipedia.org/wiki/Sierpinski_triangle).\n",
    "\n",
    "It may be simpler to draw in Java than python, so at this stage I will skip these exercises."
   ]
  },
  {
   "cell_type": "markdown",
   "metadata": {},
   "source": [
    "## Towers of Hanoi\n",
    "\n",
    "This appears to be the culmination on the lesson of recursion. Here, we can solve [Tower of Hanoi](https://en.wikipedia.org/wiki/Tower_of_Hanoi) problem using recursion!\n",
    "\n",
    "Without going to the full explanation here, they use the lessons learnt from earlier examples to build their recursive model to show it is indeed solvable, for any size $n$!\n",
    "\n",
    "Their thoughts are simply:\n",
    "1. What is the base case? If $n=1$, then it is trivial to move 1 disk from peg A to peg B\n",
    "2. The next subproblem is for $n=2$, and again, it is trivial: Move disk 1 to the spare peg C, then move disk 2 to peg B, and then disk 1 on top of disk 2 on peg B.\n",
    "\n",
    "In those two examples, it is clear we can move at least 2 disks onto any peg (not necessarily B). If we can move 2 disks onto any peg, then we can also move 3 disks onto any peg, by moving 2 out the way, shifting the 3rd onto the desired peg, and then using our 2 disk mov. If we can move 3 disks, then the 4th also comes naturally, and so on.\n",
    "\n",
    "Here we can clearly see the recursive nature of the solution play out, when we started out at the **base case**. All the examples of recursion above have this lesson, start at the base case and work from there.\n",
    "\n",
    "For more interesting examples of how the Towers have been studied (such as rotating computer back ups and even ants!), see the [Wikipedia page](https://en.wikipedia.org/wiki/Tower_of_Hanoi#Applications).\n",
    "\n",
    "### Solution\n",
    "The challenge in the Khan academy tutorial has us write a function to solve the problem for any $n$ disks from peg $A$ to peg $B$. They do this in Java and depict the solution graphically!\n",
    "\n",
    "Unfortunately python is not so good at drawing, so I will attempt a solution where each move is printed out as a string.\n",
    "\n",
    "I will start by defining a class which will represent the Tower scenario, and a function to move a disk from one peg to another, ensuring that the move is legal. This will be the first exercise, mostly due to its abstract complexity, where an [Object-Oriented Programming](https://realpython.com/python3-object-oriented-programming/) approach makes sense, and gives flexibility to examining the scenario.\n",
    "\n",
    "*Note*: The traditional solution in other coding languages involves implementing [stacks](https://en.wikipedia.org/wiki/Stack_(abstract_data_type)), which is a data structure based around accessing the values in a Last In First Out (LIFO) manner. Python lists make decent stacks (read more detail [here](https://dbader.org/blog/stacks-in-python)), and for simplicity thats what I'll be doing here. The Tower of Hanoi is not memory intensive, but computationally intensive, so the python `list` type will be fine in this instance.\n"
   ]
  },
  {
   "cell_type": "code",
   "execution_count": 31,
   "metadata": {},
   "outputs": [
    {
     "name": "stdout",
     "output_type": "stream",
     "text": [
      "a [4, 3, 2, 1]\n",
      "b []\n",
      "c []\n",
      "\n",
      "\n",
      "a [4, 3, 2]\n",
      "b [1]\n",
      "c []\n",
      "\n",
      "\n",
      "Illegal move, disk 2 is bigger than top disk ( 1 ) on peg b\n"
     ]
    },
    {
     "data": {
      "text/plain": [
       "ValueError"
      ]
     },
     "execution_count": 31,
     "metadata": {},
     "output_type": "execute_result"
    }
   ],
   "source": [
    "class Hanoi:\n",
    "    \"\"\"\n",
    "    a class to set up a Tower of Hanoi scenario\n",
    "    pegs: list of peg keys\n",
    "    \n",
    "    num_disks: int number of disks involved\n",
    "    \n",
    "    startpeg: str key of disk where disks are intially placed\n",
    "    \n",
    "    \"\"\"\n",
    "    def __init__(self,pegs, num_disks, startpeg):\n",
    "        self.towers = {}\n",
    "        self.pegs = pegs\n",
    "        self.num_disks = num_disks\n",
    "        self.startpeg = startpeg\n",
    "        for n in range(len(pegs)):\n",
    "            self.towers[pegs[n]] = []\n",
    "        self.towers[startpeg] = list(range(num_disks,0,-1))\n",
    "    def showstate(self):\n",
    "        \"\"\"\n",
    "        Show state of towers\n",
    "        \"\"\"\n",
    "        for peg in self.towers:\n",
    "            print(peg,self.towers[peg])\n",
    "        print(\"\\n\")\n",
    "        \n",
    "    def diskmove(self, frompeg, topeg):\n",
    "        \"\"\"\n",
    "        Move a disk from the top of peg frompeg to peg topeg, where frompeg and topeg are \n",
    "        keys to a dictionary towers, where the items are a list with the disks \n",
    "        arranged bottom to top\n",
    "        \"\"\"\n",
    "        assert len(self.towers[frompeg]) > 0, \"From peg is empty\"\n",
    "        disk_num = self.towers[frompeg][-1]\n",
    "        \n",
    "        if len(self.towers[topeg])>0:\n",
    "            print(\"Illegal move, disk %i is bigger\\\n",
    " than top disk ( %i ) on peg %s\" % (disk_num, self.towers[topeg][-1],topeg))\n",
    "            return ValueError\n",
    "        self.towers[topeg].append(disk_num)\n",
    "        self.towers[frompeg].pop()\n",
    "\n",
    "game = Hanoi(['a','b','c'], 4,'a' )\n",
    "game.showstate()\n",
    "game.diskmove('a','b')\n",
    "game.showstate()\n",
    "game.diskmove('a','b')\n"
   ]
  },
  {
   "cell_type": "markdown",
   "metadata": {},
   "source": [
    "Having set the foundations and checked my implementation of the scenario will be functional and intuitive, I will now redefine the class and create the recursive function that will solve the problem. \n",
    "\n",
    "The key step in solving the Tower of Hanoi problem, is recognising that if you need to move `n` disks from peg A to peg B, you first must move `n-1` disks to the spare peg C, then move the `nth` disk to peg B, before repeating your moves for the `n-1` disks, but moving from peg C to peg B. Therefore, we will also need a function that will give us what the spare peg will be, given our initial peg and our target peg."
   ]
  },
  {
   "cell_type": "code",
   "execution_count": 30,
   "metadata": {
    "collapsed": true
   },
   "outputs": [
    {
     "name": "stdout",
     "output_type": "stream",
     "text": [
      "a []\n",
      "b []\n",
      "c [5, 4, 3, 2, 1]\n",
      "\n",
      "\n",
      "a []\n",
      "b [1]\n",
      "c [5, 4, 3, 2]\n",
      "\n",
      "\n",
      "a [2]\n",
      "b [1]\n",
      "c [5, 4, 3]\n",
      "\n",
      "\n",
      "a [2, 1]\n",
      "b []\n",
      "c [5, 4, 3]\n",
      "\n",
      "\n",
      "a [2, 1]\n",
      "b [3]\n",
      "c [5, 4]\n",
      "\n",
      "\n",
      "a [2]\n",
      "b [3]\n",
      "c [5, 4, 1]\n",
      "\n",
      "\n",
      "a []\n",
      "b [3, 2]\n",
      "c [5, 4, 1]\n",
      "\n",
      "\n",
      "a []\n",
      "b [3, 2, 1]\n",
      "c [5, 4]\n",
      "\n",
      "\n",
      "a [4]\n",
      "b [3, 2, 1]\n",
      "c [5]\n",
      "\n",
      "\n",
      "a [4, 1]\n",
      "b [3, 2]\n",
      "c [5]\n",
      "\n",
      "\n",
      "a [4, 1]\n",
      "b [3]\n",
      "c [5, 2]\n",
      "\n",
      "\n",
      "a [4]\n",
      "b [3]\n",
      "c [5, 2, 1]\n",
      "\n",
      "\n",
      "a [4, 3]\n",
      "b []\n",
      "c [5, 2, 1]\n",
      "\n",
      "\n",
      "a [4, 3]\n",
      "b [1]\n",
      "c [5, 2]\n",
      "\n",
      "\n",
      "a [4, 3, 2]\n",
      "b [1]\n",
      "c [5]\n",
      "\n",
      "\n",
      "a [4, 3, 2, 1]\n",
      "b []\n",
      "c [5]\n",
      "\n",
      "\n",
      "a [4, 3, 2, 1]\n",
      "b [5]\n",
      "c []\n",
      "\n",
      "\n",
      "a [4, 3, 2]\n",
      "b [5]\n",
      "c [1]\n",
      "\n",
      "\n",
      "a [4, 3]\n",
      "b [5, 2]\n",
      "c [1]\n",
      "\n",
      "\n",
      "a [4, 3]\n",
      "b [5, 2, 1]\n",
      "c []\n",
      "\n",
      "\n",
      "a [4]\n",
      "b [5, 2, 1]\n",
      "c [3]\n",
      "\n",
      "\n",
      "a [4, 1]\n",
      "b [5, 2]\n",
      "c [3]\n",
      "\n",
      "\n",
      "a [4, 1]\n",
      "b [5]\n",
      "c [3, 2]\n",
      "\n",
      "\n",
      "a [4]\n",
      "b [5]\n",
      "c [3, 2, 1]\n",
      "\n",
      "\n",
      "a []\n",
      "b [5, 4]\n",
      "c [3, 2, 1]\n",
      "\n",
      "\n",
      "a []\n",
      "b [5, 4, 1]\n",
      "c [3, 2]\n",
      "\n",
      "\n",
      "a [2]\n",
      "b [5, 4, 1]\n",
      "c [3]\n",
      "\n",
      "\n",
      "a [2, 1]\n",
      "b [5, 4]\n",
      "c [3]\n",
      "\n",
      "\n",
      "a [2, 1]\n",
      "b [5, 4, 3]\n",
      "c []\n",
      "\n",
      "\n",
      "a [2]\n",
      "b [5, 4, 3]\n",
      "c [1]\n",
      "\n",
      "\n",
      "a []\n",
      "b [5, 4, 3, 2]\n",
      "c [1]\n",
      "\n",
      "\n",
      "a []\n",
      "b [5, 4, 3, 2, 1]\n",
      "c []\n",
      "\n",
      "\n"
     ]
    }
   ],
   "source": [
    "class Hanoi:\n",
    "    \"\"\"\n",
    "    a class to set up a Tower of Hanoi scenario\n",
    "    pegs: list of peg keys\n",
    "    \n",
    "    num_disks: int number of disks involved\n",
    "    \n",
    "    startpeg: str key of disk where disks are intially placed\n",
    "    \n",
    "    \"\"\"\n",
    "    def __init__(self,pegs, num_disks, startpeg):\n",
    "        self.towers = {}\n",
    "        self.pegs = pegs\n",
    "        self.num_disks = num_disks\n",
    "        self.startpeg = startpeg\n",
    "        for n in range(len(pegs)):\n",
    "            self.towers[pegs[n]] = []\n",
    "        self.towers[startpeg] = list(range(num_disks,0,-1))\n",
    "    def showstate(self):\n",
    "        \"\"\"\n",
    "        Show state of towers\n",
    "        \"\"\"\n",
    "        for peg in self.towers:\n",
    "            print(peg,self.towers[peg])\n",
    "        print(\"\\n\")\n",
    "        \n",
    "    def diskmove(self, frompeg, topeg):\n",
    "        \"\"\"\n",
    "        Move a disk from the top of peg frompeg to peg topeg, where frompeg and topeg are \n",
    "        keys to a dictionary towers, where the items are a list with the disks \n",
    "        arranged bottom to top\n",
    "        \"\"\"\n",
    "        assert len(self.towers[frompeg]) > 0, \"From peg is empty\"\n",
    "        disk_num = self.towers[frompeg][-1]\n",
    "        \n",
    "        if len(self.towers[topeg])>0:\n",
    "            assert disk_num < self.towers[topeg][-1], \"illegal move, disk %i is bigger\\\n",
    " than top disk ( %i ) on peg %s\" % (disk_num, self.towers[topeg][-1],topeg)\n",
    "        self.towers[topeg].append(disk_num)\n",
    "        self.towers[frompeg].pop()\n",
    "       \n",
    "    def solveHanoi(self, frompeg, topeg, numdisks=None):\n",
    "        \"\"\"\n",
    "        Solve the tower by moving the disks from peg frompeg to peg topeg, with disks laid\n",
    "        out in self.towers\n",
    "        \"\"\"\n",
    "        if numdisks == None:\n",
    "            numdisks = self.num_disks\n",
    "        assert numdisks<= self.num_disks, \"Tower does not have so many disks.\"\n",
    "        def getsparepeg(frompeg, topeg):\n",
    "            \"\"\"\n",
    "            return the key of the spare peg\n",
    "            \"\"\"\n",
    "            for peg in self.towers:\n",
    "                if peg not in [frompeg,topeg]:\n",
    "                    return peg\n",
    "\n",
    "        if numdisks==1:\n",
    "            self.diskmove(frompeg,topeg)\n",
    "            self.showstate()\n",
    "            return True\n",
    "        \n",
    "        if len(self.towers[topeg])== self.num_disks:\n",
    "            #already finished\n",
    "            return True\n",
    "        \n",
    "        else:\n",
    "            spare = getsparepeg(frompeg, topeg)\n",
    "            #subgame = Hanoi(self.pegs, self.num_disks-1, self.startpeg)\n",
    "            #subgame.diskmove(frompeg,spare)\n",
    "            self.solveHanoi(frompeg, spare, numdisks-1)\n",
    "            self.diskmove(frompeg,topeg)\n",
    "            self.showstate()\n",
    "            self.solveHanoi(spare,topeg, numdisks-1)\n",
    "    \n",
    "    \n",
    "game = Hanoi(['a','b','c'], 5,'c' )\n",
    "game.showstate()\n",
    "game.solveHanoi('c','b')"
   ]
  }
 ],
 "metadata": {
  "kernelspec": {
   "display_name": "Python 3",
   "language": "python",
   "name": "python3"
  },
  "language_info": {
   "codemirror_mode": {
    "name": "ipython",
    "version": 3
   },
   "file_extension": ".py",
   "mimetype": "text/x-python",
   "name": "python",
   "nbconvert_exporter": "python",
   "pygments_lexer": "ipython3",
   "version": "3.6.4"
  }
 },
 "nbformat": 4,
 "nbformat_minor": 2
}
