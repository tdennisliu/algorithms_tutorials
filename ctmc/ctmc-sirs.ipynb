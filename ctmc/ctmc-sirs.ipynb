{
 "cells": [
  {
   "cell_type": "markdown",
   "metadata": {},
   "source": [
    "# My first CTMC algorithm\n",
    "\n",
    "My first attempt at fitting a Continous Time Markov Chain to simulated data in a toy problem. Mathematical background on how to build the likelihood can be found in [here](http://www.mathematik.uni-karlsruhe.de/ianm3/~jahnke/media/medijasc2007.pdf)."
   ]
  },
  {
   "cell_type": "markdown",
   "metadata": {},
   "source": [
    "### Simulate toy problem\n",
    "\n",
    "First we will simulate some data. We will use a a simple 3 state model, a typical SIRS epidemic model with perfect vaccination, on a closed population of 100 people.\n",
    "\n",
    "The transitions will be defined as follows:\n",
    "\n",
    "\\begin{align}\n",
    "S \\to I & &\\text{with rate} & &\\beta \\frac{SI}{N},\\\\\n",
    "I \\to R & &\\text{with rate} & &\\gamma \\frac{I}{N},\\\\\n",
    "R \\to S & &\\text{with rate} & &\\omega \\frac{R}{N},\\\\\n",
    "S \\to R & &\\text{with rate} & &\\nu \\frac{I}{N}.\\\\\n",
    "\\end{align}\n",
    "\n",
    "For simplicity, we can define the set of parameters to be $\\boldsymbol{\\theta} = (\\beta, \\gamma, \\omega, \\nu)$. For our toy problem, let us set $\\boldsymbol{\\theta} = ( 2, 0.125, 1/400, 10)$, with an initial state (starting population) completely susceptible with 1 infected seed, i.e. $\\boldsymbol{n} = (99,1, 0)$"
   ]
  },
  {
   "cell_type": "code",
   "execution_count": 65,
   "metadata": {},
   "outputs": [],
   "source": [
    "import numpy as np\n",
    "\n",
    "init = np.array((99,1,0))\n",
    "beta = 2\n",
    "gamma = 0.125\n",
    "omega = 1/400\n",
    "nu = 10\n",
    "theta = np.array((beta, gamma,omega,nu))\n",
    "\n",
    "class sirs:\n",
    "    \n",
    "    \"\"\"Class object to contain the ctmc model\"\"\"\n",
    "    def __init__(self,beta, gamma, omega, nu, init):\n",
    "        self.parameters = (beta, gamma, omega,nu)\n",
    "        assert len(init)==3, \"Number of states given is not 3\"\n",
    "        self.initial = init\n",
    "        self.current = list(init)\n",
    "        self.totalpop = sum(init)\n",
    "    \n",
    "    def transition(self):\n",
    "        \n",
    "        \n",
    "        #First define transition movements\n",
    "        \n",
    "        def infection():\n",
    "            #Infected transmission\n",
    "            self.current[0] -= 1\n",
    "            self.current[1] += 1\n",
    "\n",
    "        def recovery():\n",
    "            #Recovery \n",
    "            self.current[1] -=1\n",
    "            self.current[2] +=1\n",
    "\n",
    "\n",
    "        def vacc():\n",
    "            self.current[0] -=1\n",
    "            self.current[2] +=1\n",
    "\n",
    "        def waning():\n",
    "            self.current[2] -=1\n",
    "            self.current[0] +=1\n",
    "\n",
    "        map_transitions = {\n",
    "            0 : infection,\n",
    "            1 : recovery,\n",
    "            2 : vacc,\n",
    "            3 : waning,\n",
    "        }\n",
    "\n",
    "        #Calculate transitions rates\n",
    "        trans = beta * self.current[0]*self.current[1]/self.totalpop\n",
    "        recov = gamma * self.current[1]\n",
    "        wane = omega * self.current[2]\n",
    "        vac = nu * self.current[1]/self.totalpop\n",
    "        total = trans + recov + wane + vac\n",
    "        \n",
    "        #Record current rates\n",
    "        self.currentrates = (trans, recov, wane, vac)\n",
    "        \n",
    "        #Draw a transition time\n",
    "        dt = np.random.exponential(total)\n",
    "        \n",
    "        #Draw a transition\n",
    "        p = np.array(self.currentrates)/total\n",
    "        s = np.random.choice(4, p=p)\n",
    "        map_transitions[s]()\n",
    "        \n",
    "        return dt, s\n",
    "        "
   ]
  },
  {
   "cell_type": "code",
   "execution_count": 66,
   "metadata": {},
   "outputs": [
    {
     "name": "stdout",
     "output_type": "stream",
     "text": [
      "0\n",
      "[98, 2, 0]\n"
     ]
    }
   ],
   "source": [
    "toy = sirs(beta, gamma, omega, nu, init)\n",
    "toy.transition()"
   ]
  },
  {
   "cell_type": "code",
   "execution_count": 67,
   "metadata": {},
   "outputs": [
    {
     "name": "stdout",
     "output_type": "stream",
     "text": [
      "3\n",
      "[11, 30, 49]\n"
     ]
    }
   ],
   "source": [
    "init = (10,30,50)\n",
    "toy = sirs(beta, gamma, omega, nu, init)\n",
    "toy.transition()"
   ]
  },
  {
   "cell_type": "code",
   "execution_count": 40,
   "metadata": {},
   "outputs": [
    {
     "data": {
      "text/plain": [
       "(6.666666666666667, 3.75, 0.125, 3.3333333333333335)"
      ]
     },
     "execution_count": 40,
     "metadata": {},
     "output_type": "execute_result"
    }
   ],
   "source": [
    "toy.currentrates"
   ]
  },
  {
   "cell_type": "code",
   "execution_count": null,
   "metadata": {},
   "outputs": [],
   "source": []
  }
 ],
 "metadata": {
  "kernelspec": {
   "display_name": "Python 3",
   "language": "python",
   "name": "python3"
  },
  "language_info": {
   "codemirror_mode": {
    "name": "ipython",
    "version": 3
   },
   "file_extension": ".py",
   "mimetype": "text/x-python",
   "name": "python",
   "nbconvert_exporter": "python",
   "pygments_lexer": "ipython3",
   "version": "3.7.3"
  }
 },
 "nbformat": 4,
 "nbformat_minor": 2
}
