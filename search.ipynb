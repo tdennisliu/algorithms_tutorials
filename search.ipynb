{
 "cells": [
  {
   "cell_type": "markdown",
   "metadata": {},
   "source": [
    "# Algorithms"
   ]
  },
  {
   "cell_type": "markdown",
   "metadata": {},
   "source": [
    "### Introduction\n",
    "In this notebook, I will be showing my coding solutions to the exercises from Khan Academy, in their Algorithms course created by Dartmouth college professors Tom Cormen and Devin Balkcom. \n",
    "\n",
    "It is designed to 'teach introductory computer science algorithms, including searching, sorting, recursion, and graph theory'.\n",
    "\n",
    "Access it [here](https://www.khanacademy.org/computing/computer-science/algorithms)."
   ]
  },
  {
   "cell_type": "markdown",
   "metadata": {},
   "source": [
    "## Binary search\n",
    "\n",
    "A simple search for an element in a sorted list of size $N$ can take $O(N)$ with a brute force method of checking every element. However, as the list is sorted, you can take the median element, compare to the object, and eliminate the half of the list that excludes your object. Eliminating half the list at each iteration is called the **binary search**."
   ]
  },
  {
   "cell_type": "code",
   "execution_count": 1,
   "metadata": {},
   "outputs": [],
   "source": [
    "\n",
    "#use list of primes as example list\n",
    "primes = [2, 3, 5, 7, 11, 13, 17, 19, 23, 29, 31, 37, 41, \n",
    "          43, 47, 53, 59, 61, 67, 71, 73, 79, 83, 89, 97]\n",
    "\n"
   ]
  },
  {
   "cell_type": "markdown",
   "metadata": {},
   "source": [
    "Khan academy example uses a while loop and notes that since the list is already sorted, we can simply use array indices in the comparisons."
   ]
  },
  {
   "cell_type": "code",
   "execution_count": 51,
   "metadata": {},
   "outputs": [],
   "source": [
    "def bin_search(user_guess, array):\n",
    "    \n",
    "    min_i = 0\n",
    "    max_i = len(array) -1\n",
    "    n = 1\n",
    "    while min_i <= max_i:\n",
    "        guess = (max_i + min_i) //2 #integer division always rounds down\n",
    "        \n",
    "        if array[guess] == user_guess:\n",
    "            print(\"Number is a prime!\")\n",
    "            print(\"It is the %i th prime\" % (guess+1))\n",
    "            print(\"It took %i iterations to find\" %n)\n",
    "            break\n",
    "        if array[guess] < user_guess:\n",
    "            #user number is in the upper half\n",
    "            min_i = guess +1 \n",
    "        else:\n",
    "            #user number is in the lower half\n",
    "            max_i = guess -1\n",
    "        \n",
    "        if n == len(array):\n",
    "            print(\"Search failed, exceeded allowed iterations\")\n",
    "            break\n",
    "            \n",
    "        n = n+1\n",
    "    else:\n",
    "        print(\"%i is not a prime\" % user_guess)"
   ]
  },
  {
   "cell_type": "code",
   "execution_count": 53,
   "metadata": {},
   "outputs": [
    {
     "name": "stdout",
     "output_type": "stream",
     "text": [
      "8 is not a prime\n"
     ]
    }
   ],
   "source": [
    "bin_search(8, primes)"
   ]
  },
  {
   "cell_type": "markdown",
   "metadata": {},
   "source": [
    "Keep in mind that the exit case of the while loop is when the min index of the interval is greater than the max index. Convince yourself that due to the way the algorithm updates the intervals, this is the case.\n",
    "\n",
    "### Order of binary search\n",
    "\n",
    "If array is sorted and of length N, then the order of the binary search is at most O($2^N$), and max number of iterations is $2^N + 1$, when the object is not in the array."
   ]
  },
  {
   "cell_type": "markdown",
   "metadata": {},
   "source": [
    "## Selection Sorting"
   ]
  },
  {
   "cell_type": "markdown",
   "metadata": {},
   "source": [
    "In the above section, we were dependent on the list already being sorted, but what if the list was unsorted? Then we need an efficient algorithm to sort it to ascending order.\n",
    "\n",
    "\n",
    "The basic idea is to:\n",
    "1. consider all $n-i$ elements, find the smallest element in the set by pairwise comparisons, and\n",
    "2. swap it with the current ith element.\n",
    "\n",
    "*Note that to sort the list into descending order, we simply need to mirror the list with N/2 calls of swap, or create a copy of our smallest sub-element function, but find the biggest instead.*"
   ]
  },
  {
   "cell_type": "markdown",
   "metadata": {},
   "source": [
    "We will now make a function to the first step, finding the index of the smallest value in the array"
   ]
  },
  {
   "cell_type": "code",
   "execution_count": 62,
   "metadata": {},
   "outputs": [],
   "source": [
    "def min_value(array, startindex):\n",
    "    \"\"\"\n",
    "    Create a function that finds the index of minimum value of a subarray, beginning at\n",
    "    a start index\n",
    "    \"\"\"\n",
    "    min_test = startindex\n",
    "    for i in range(startindex+1, len(array)):\n",
    "        if array[i] <array[min_test]:\n",
    "            min_test = i\n",
    "            \n",
    "    return min_test"
   ]
  },
  {
   "cell_type": "code",
   "execution_count": 75,
   "metadata": {},
   "outputs": [
    {
     "name": "stdout",
     "output_type": "stream",
     "text": [
      "4\n",
      "5\n"
     ]
    }
   ],
   "source": [
    "#Run some tests to ensure it is working\n",
    "array = [3,-2, 10,40,0,4,10]\n",
    "\n",
    "print(min_value(array, 2)) #should be 4, array[4] = 0\n",
    "print(min_value(array, 5)) #should be 5, array[5] = 4"
   ]
  },
  {
   "cell_type": "markdown",
   "metadata": {},
   "source": [
    "Now we will make the function to swap values in an array"
   ]
  },
  {
   "cell_type": "code",
   "execution_count": 72,
   "metadata": {},
   "outputs": [],
   "source": [
    "def swap(array, ind_1, ind_2):\n",
    "    \"\"\"\n",
    "    Swap values of array at ind_1 and ind_2\n",
    "    \"\"\"\n",
    "    temp = array[ind_1]\n",
    "    array[ind_1] = array[ind_2]\n",
    "    array[ind_2] = temp\n",
    "    #no return as array (a pointer in python) is fed into function"
   ]
  },
  {
   "cell_type": "markdown",
   "metadata": {},
   "source": [
    "Combining the two functions, minimum value and swap, allows us to do the selection search"
   ]
  },
  {
   "cell_type": "code",
   "execution_count": 78,
   "metadata": {},
   "outputs": [
    {
     "name": "stdout",
     "output_type": "stream",
     "text": [
      "[-2, 0, 2, 3, 5, 10.2, 40]\n"
     ]
    }
   ],
   "source": [
    "##now combine swap and min_value to do selection sort\n",
    "array = [3,-2, 5,40,0,2,10.2]\n",
    "def selection_sort(array):\n",
    "    for i in range(len(array)):\n",
    "        min_index = min_value(array, i)\n",
    "        swap(array, i , min_index)\n",
    "selection_sort(array)\n",
    "print(array)"
   ]
  },
  {
   "cell_type": "markdown",
   "metadata": {},
   "source": [
    "### Order of selection sorting\n",
    "\n",
    "The algorithm has two primary loops, the outer most loop of running through each element and putting the next smallest item there, and the inner loop (step 1 above) of finding the smallest element. \n",
    "\n",
    "Swapping elements is constant time, as no loops or complex functions occur in that function, only assignment and references.\n",
    "\n",
    "The outer loop is simply $\\Theta(N)$, as we need to go through every element.\n",
    "The inner loop with function min_value has $N$ loops for the first element, and then one less at each iteration of the outer loop. So this is also $O(N)$.\n",
    "\n",
    "Combining these two means that the total complexity is $O(N^2)$"
   ]
  },
  {
   "cell_type": "markdown",
   "metadata": {},
   "source": [
    "## Insertion sort\n",
    "\n",
    "Khan academy subtitles this section as another way to sort that is simple, but not very efficient."
   ]
  },
  {
   "cell_type": "code",
   "execution_count": null,
   "metadata": {},
   "outputs": [],
   "source": []
  },
  {
   "cell_type": "code",
   "execution_count": null,
   "metadata": {},
   "outputs": [],
   "source": []
  }
 ],
 "metadata": {
  "kernelspec": {
   "display_name": "Python 3",
   "language": "python",
   "name": "python3"
  },
  "language_info": {
   "codemirror_mode": {
    "name": "ipython",
    "version": 3
   },
   "file_extension": ".py",
   "mimetype": "text/x-python",
   "name": "python",
   "nbconvert_exporter": "python",
   "pygments_lexer": "ipython3",
   "version": "3.6.4"
  }
 },
 "nbformat": 4,
 "nbformat_minor": 2
}
