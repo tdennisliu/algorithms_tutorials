{
 "cells": [
  {
   "cell_type": "markdown",
   "metadata": {},
   "source": [
    "# Coding interview problems\n",
    "\n",
    "Some of these problems I have taken from [Cracking the Coding Interview](http://www.crackingthecodinginterview.com) by Gayle Laakmannn McDowell, which in my copy has Java solutions, and some others I have been asked from various other sources.\n",
    "\n",
    "## Algorithms\n",
    "\n",
    "### 1. Implement an algorithm to determine if a string has all unique characters. Also try without using additional data structures.\n"
   ]
  },
  {
   "cell_type": "code",
   "execution_count": 28,
   "metadata": {},
   "outputs": [
    {
     "name": "stdout",
     "output_type": "stream",
     "text": [
      "False\n",
      "True\n",
      "Construction of unique set is O(n), and then check of length is constant time.\n",
      "Overall O(n)\n"
     ]
    }
   ],
   "source": [
    "def sunique(s_input, builtin=True):\n",
    "    \"\"\"\n",
    "    Determine if a string has all unique characters, using built-in data structures\n",
    "    \"\"\"\n",
    "    #Clarify is spaces need to be stripped.\n",
    "    if len(s_input)==0:\n",
    "        #CLARIFY with interviewer what they would like if empty string\n",
    "        return -1\n",
    "    if not builtin:\n",
    "        unique= []\n",
    "        for s in s_input:\n",
    "            if s not in unique:\n",
    "                unique.append(s) \n",
    "    else:\n",
    "        unique = set(s_input)\n",
    "    if len(unique) == len(s_input):\n",
    "        return True\n",
    "    else: \n",
    "        return False\n",
    "\n",
    "print(sunique('test'))\n",
    "print(sunique('helo wrd', builtin=False))\n",
    "print(\"Construction of unique set is O(n), and then check of length is constant time.\\n\"+\n",
    "\"Overall O(n)\")"
   ]
  },
  {
   "cell_type": "markdown",
   "metadata": {},
   "source": [
    "### 2. Given a string, return the first character in the string that is not repeated."
   ]
  },
  {
   "cell_type": "code",
   "execution_count": 26,
   "metadata": {},
   "outputs": [
    {
     "name": "stdout",
     "output_type": "stream",
     "text": [
      "y\n",
      "No unique elements\n"
     ]
    }
   ],
   "source": [
    "def firstuniquechar(s_input):\n",
    "    \"\"\"\n",
    "    Takes a string s_input, and returns the first character that is not repeated\n",
    "    \"\"\"\n",
    "    #Generate set of unique elements from input\n",
    "    unique = set()\n",
    "    removed = set()\n",
    "    if len(s_input)==0:\n",
    "        return \"String is empty\"\n",
    "    for s in s_input:\n",
    "        #Remove duplicate elements\n",
    "        if s in unique:\n",
    "            unique.remove(s)\n",
    "            removed.add(s)\n",
    "        #Add new elements\n",
    "        else:\n",
    "            if s not in removed:\n",
    "                unique.add(s)\n",
    "    if len(unique)==0:                \n",
    "        print(\"No unique elements\")\n",
    "        return None\n",
    "    for s in s_input:\n",
    "        if s in unique:            \n",
    "            return s\n",
    "\n",
    "        \n",
    "print(firstuniquechar('aabbcdedecycz'))\n",
    "firstuniquechar('aaa')"
   ]
  },
  {
   "cell_type": "markdown",
   "metadata": {},
   "source": [
    "### 3. Given a string, write a function to return the reverse string"
   ]
  },
  {
   "cell_type": "code",
   "execution_count": 30,
   "metadata": {},
   "outputs": [
    {
     "data": {
      "text/plain": [
       "'dcba'"
      ]
     },
     "execution_count": 30,
     "metadata": {},
     "output_type": "execute_result"
    }
   ],
   "source": [
    "def reverse(sInput):\n",
    "    \"\"\"\n",
    "    return the reverse of sInput\n",
    "    \"\"\"    \n",
    "    return sInput[::-1]\n",
    "reverse('abcd')"
   ]
  },
  {
   "cell_type": "markdown",
   "metadata": {},
   "source": [
    "### 4. Given two strings, write a method to determine if one is the permutation of the other"
   ]
  },
  {
   "cell_type": "code",
   "execution_count": 38,
   "metadata": {},
   "outputs": [
    {
     "data": {
      "text/plain": [
       "False"
      ]
     },
     "execution_count": 38,
     "metadata": {},
     "output_type": "execute_result"
    }
   ],
   "source": [
    "def spermutation(input1, input2):\n",
    "    \"\"\"\n",
    "    Determine if input1 string is a permutation of input2 string\n",
    "    \"\"\"\n",
    "    #clarify what to return if both are empty\n",
    "    #clarify if whitespace matters\n",
    "    #Clarify if capital letters matter\n",
    "    \n",
    "    if len(input1) != len(input2):\n",
    "        return False\n",
    "    sorted1 = sorted(input1)\n",
    "    sorted2 = sorted(input2)\n",
    "    for i,s in enumerate(input1):\n",
    "        if s != sorted2[i]:\n",
    "            return False\n",
    "    else:\n",
    "        return True\n",
    "spermutation('acc','aac')"
   ]
  },
  {
   "cell_type": "markdown",
   "metadata": {},
   "source": [
    "### 5. Describe how you could use a single array to implement three stacks."
   ]
  },
  {
   "cell_type": "code",
   "execution_count": 43,
   "metadata": {},
   "outputs": [],
   "source": [
    "class threestacks:\n",
    "    # i think this question is a bit redundant in python, due to the dynamic memory\n",
    "    # allocation of python.\n",
    "    def __init__(self, array):\n",
    "        self.stack1 = array[0::3] #memory intensive due to copying from slices\n",
    "        self.stack2 = array[1::3]\n",
    "        self.stack3 = array[2::3]\n",
    "    \n",
    "    def pop1(self):\n",
    "        self.stack1.pop()\n",
    "    def pop2(self):\n",
    "        self.stack2.pop()\n",
    "    def pop3(self):\n",
    "        self.stack3.pop()\n",
    "        \n",
    "x = [1,2,3,4,5,6,7,8,9]\n",
    "stack = threestacks(x)\n",
    "stack.stack1[1] = -1\n",
    "stack.stack1\n",
    "x"
   ]
  },
  {
   "cell_type": "markdown",
   "metadata": {},
   "source": [
    "### 6. A child is runnning up the staircase with n steps, and can hop either 1 step, 2 steps or 3 steps at a time. Implement a method to count how many possible ways the child can run up the stairs."
   ]
  },
  {
   "cell_type": "code",
   "execution_count": 81,
   "metadata": {},
   "outputs": [],
   "source": [
    "def childstairs(nsteps, maxstep=3):\n",
    "    \"\"\"\n",
    "    Returns the count of the number of ways a child can run up a staircase of n steps with\n",
    "    a max step of maxstep\n",
    "    \"\"\"\n",
    "    if nsteps ==1:\n",
    "        # base case\n",
    "        return 1\n",
    "    if nsteps < maxstep:\n",
    "        return childstairs(nsteps, nsteps)\n",
    "    \n",
    "    else:\n",
    "        count = nsteps* childstairs(nsteps-maxstep, maxstep=maxstep) + childstairs(nsteps, maxstep= maxstep-1)\n",
    "        return count\n",
    "    ##INCOMPLETE"
   ]
  },
  {
   "cell_type": "markdown",
   "metadata": {},
   "source": [
    "### 7. Implement a single-linked list in python"
   ]
  },
  {
   "cell_type": "code",
   "execution_count": 19,
   "metadata": {},
   "outputs": [
    {
     "data": {
      "text/plain": [
       "['Mon', 'Tues', 'Wed']"
      ]
     },
     "execution_count": 19,
     "metadata": {},
     "output_type": "execute_result"
    }
   ],
   "source": [
    "class Node:\n",
    "    def __init__(self, value, nextval=None):\n",
    "        self.value = value\n",
    "        self.nextval = nextval\n",
    "\n",
    "class singleList:\n",
    "    def __init__(self, headval):\n",
    "        self.head = headval\n",
    "    def show(self):\n",
    "        currentp = self.head\n",
    "        while currentp != None:\n",
    "            yield(currentp.value)\n",
    "            currentp = currentp.nextval\n",
    "\n",
    "e1 = Node('Mon')\n",
    "e2 = Node('Tues')\n",
    "e3 = Node('Wed')\n",
    "\n",
    "list1 = singleList(e1)\n",
    "list1.head.nextval = e2\n",
    "e2.nextval = e3\n",
    "list(list1.show())"
   ]
  },
  {
   "cell_type": "markdown",
   "metadata": {},
   "source": [
    "### 8. Implement Dijkstra's algorithm on an adjacency matrix\n",
    "\n"
   ]
  },
  {
   "cell_type": "code",
   "execution_count": 54,
   "metadata": {},
   "outputs": [
    {
     "data": {
      "text/plain": [
       "{0: 3, 1: 0, 2: 4, 3: 5}"
      ]
     },
     "execution_count": 54,
     "metadata": {},
     "output_type": "execute_result"
    }
   ],
   "source": [
    "def Dijkstra(graph, source):\n",
    "    \"\"\"\n",
    "    Creates and returns a dictionary that has nodes as the keys, and \n",
    "    distance from source as the value.\n",
    "    \"\"\"\n",
    "    from collections import deque\n",
    "    inf = float('inf')\n",
    "    nbours = deque()\n",
    "    nbours.append(source)\n",
    "    distances = {source: 0}\n",
    "    unvisited = []\n",
    "    for i in range(len(graph)):\n",
    "        #initialise graph\n",
    "        if i != source:\n",
    "            distances[i] = inf\n",
    "        unvisited.append(i)\n",
    "\n",
    "    while len(unvisited)>0:\n",
    "        i = nbours.pop()\n",
    "        for j in range(len(graph)):\n",
    "            if graph[i][j] != 0 and j !=i:\n",
    "                if j in unvisited:\n",
    "                    nbours.append(j)\n",
    "                if distances[j]> distances[i] + graph[i][j]:\n",
    "                    distances[j] = distances[i] + graph[i][j]\n",
    "                        \n",
    "        unvisited.remove(i)\n",
    "    return distances\n",
    "\n",
    "g = [[0,3,1,2],[3,0,10,0],[1,10,0,0],[2,0,0,0]]     \n",
    "\n",
    "Dijkstra(g,1)\n",
    "    "
   ]
  },
  {
   "cell_type": "markdown",
   "metadata": {},
   "source": [
    "### 9. Find whether a string S is periodic"
   ]
  },
  {
   "cell_type": "code",
   "execution_count": 61,
   "metadata": {},
   "outputs": [
    {
     "name": "stdout",
     "output_type": "stream",
     "text": [
      "Not periodic\n"
     ]
    },
    {
     "data": {
      "text/plain": [
       "'aceacer'"
      ]
     },
     "execution_count": 61,
     "metadata": {},
     "output_type": "execute_result"
    }
   ],
   "source": [
    "def periodicS(S):\n",
    "    ### Order n solution\n",
    "    for n in range(1,len(S)//2+1):\n",
    "        unit = S[:n+1]\n",
    "        if len(S) % len(unit) == 0:\n",
    "            if S == len(S)//len(unit) * unit:\n",
    "                return unit\n",
    "    else:\n",
    "        ##failed\n",
    "        print(\"Not periodic\")\n",
    "        return None\n",
    "periodicS('acdddc'*2 +'e')\n",
    "periodicS('aceaceraceacer')"
   ]
  },
  {
   "cell_type": "markdown",
   "metadata": {},
   "source": [
    "### 10. Given a dictionary of words & a miss-spelled input, write a function which will find 3 words from the dictionary which have a difference of 1 character to the given input"
   ]
  },
  {
   "cell_type": "code",
   "execution_count": 88,
   "metadata": {},
   "outputs": [
    {
     "data": {
      "text/plain": [
       "{'vat', 'vil'}"
      ]
     },
     "execution_count": 88,
     "metadata": {},
     "output_type": "execute_result"
    }
   ],
   "source": [
    "def spellcheck(word: str, corpus:{str}):\n",
    "    \"\"\"\n",
    "    eg. corpus = {vil, sit, flick, pat, pluck, sat, vat}, input = vit, \n",
    "    return = {sit, vil, vat}\n",
    "    Finds only the first 3 words\n",
    "    \"\"\" \n",
    "    matches = set()\n",
    "    for n in corpus:\n",
    "        if len(n) >= len(word)-1 and len(n) <= len(word)+1:\n",
    "            count = 0\n",
    "              \n",
    "            if len(n) > len(word):\n",
    "                for i in range(len(word)):\n",
    "                    if word[i] != n[i]:\n",
    "                        count+=1\n",
    "                    if count ==1:\n",
    "                        break\n",
    "                else:\n",
    "                    matches.add(n)\n",
    "                    if len(matches) ==3:\n",
    "                        return matches\n",
    "                \n",
    "            elif len(n)< len(word): \n",
    "                #word is bigger than corpus word\n",
    "                for i in range(len(n)):\n",
    "                    if word[i] != n[i]:\n",
    "                        count+=1\n",
    "                    if count==1:\n",
    "                        break\n",
    "                else:\n",
    "                    matches.add(n)\n",
    "                    if len(matches) ==3:\n",
    "                        return matches\n",
    "            else:\n",
    "                for i in range(len(n)):\n",
    "                    if word[i] != n[i]:\n",
    "                        count+=1\n",
    "                    if count==2:\n",
    "                        break\n",
    "                else:\n",
    "                    matches.add(n)\n",
    "                    if len(matches) ==3:\n",
    "                        return matches\n",
    "    else:\n",
    "        if len(matches)>0:\n",
    "            return matches\n",
    "        return None\n",
    "        \n",
    "corpus = {'vil', 'sit', 'flick', 'pat', 'pluck', 'sat', 'vat'}\n",
    "spellcheck('val',corpus)\n",
    "    "
   ]
  },
  {
   "cell_type": "markdown",
   "metadata": {},
   "source": [
    "### 11. For a given vector v of integers and integer K, fin the number of non-empty subsets S of v, such that min(S) + max(S) <=K "
   ]
  },
  {
   "cell_type": "code",
   "execution_count": 102,
   "metadata": {},
   "outputs": [
    {
     "data": {
      "text/plain": [
       "(6, {(2, 3), (2, 3, 4), (2, 3, 4, 5), 2, 3, 4})"
      ]
     },
     "execution_count": 102,
     "metadata": {},
     "output_type": "execute_result"
    }
   ],
   "source": [
    "def countsubsets(v, K):\n",
    "    \"\"\"\n",
    "    eg.\n",
    "    for K = 8 and v = [2,4,5,7], the solution is 5 ([2],[4],[2,4],[2,4,5],[2,5]).\n",
    "    Given the example, we will assume v is sorted, and subsets can be non-sequential\n",
    "    \"\"\"\n",
    "    #Unable to grab non-sequential subesets, i.e. [2,5].\n",
    "    subsets = set() #prevents duplicates\n",
    "    \n",
    "    if v[0] > K:\n",
    "        return subsets\n",
    "    else:\n",
    "        subsets.add(v[0])\n",
    "    i=1\n",
    "    if len(v) >1:       \n",
    "        while v[i] <=K:\n",
    "            ##stop if max element is greater than K\n",
    "            if v[0] + v[i] <= K:\n",
    "                if 2*v[i] <=K:\n",
    "                    subsets.add(v[i])\n",
    "                #add complete subset\n",
    "                subsets.add(tuple(v[:i+1]))\n",
    "                \n",
    "            i+=1\n",
    "            if i >= len(v):\n",
    "                break\n",
    "\n",
    "    return len(subsets), subsets\n",
    "\n",
    "    \n",
    "countsubsets([2,3,4,5,7], 8)"
   ]
  },
  {
   "cell_type": "code",
   "execution_count": null,
   "metadata": {},
   "outputs": [],
   "source": []
  }
 ],
 "metadata": {
  "kernelspec": {
   "display_name": "Python 3",
   "language": "python",
   "name": "python3"
  },
  "language_info": {
   "codemirror_mode": {
    "name": "ipython",
    "version": 3
   },
   "file_extension": ".py",
   "mimetype": "text/x-python",
   "name": "python",
   "nbconvert_exporter": "python",
   "pygments_lexer": "ipython3",
   "version": "3.6.4"
  }
 },
 "nbformat": 4,
 "nbformat_minor": 2
}
